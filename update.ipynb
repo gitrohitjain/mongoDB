{
 "cells": [
  {
   "cell_type": "code",
   "execution_count": 1,
   "metadata": {},
   "outputs": [],
   "source": [
    "import pymongo"
   ]
  },
  {
   "cell_type": "code",
   "execution_count": 7,
   "metadata": {},
   "outputs": [],
   "source": [
    "client = pymongo.MongoClient('mongodb://localhost:27017/')"
   ]
  },
  {
   "cell_type": "code",
   "execution_count": 11,
   "metadata": {},
   "outputs": [],
   "source": [
    "mydb = client['ParenttTable']"
   ]
  },
  {
   "cell_type": "code",
   "execution_count": 12,
   "metadata": {},
   "outputs": [],
   "source": [
    "collection= mydb.ChildTable"
   ]
  },
  {
   "cell_type": "code",
   "execution_count": 13,
   "metadata": {},
   "outputs": [
    {
     "data": {
      "text/plain": [
       "[{'_id': ObjectId('5f85acde763f741482f58435'),\n",
       "  'name': 'Krishna',\n",
       "  'attribute': 'cute',\n",
       "  'age': 20000},\n",
       " {'_id': ObjectId('5f85ad34763f741482f58436'),\n",
       "  'name': 'Krishna',\n",
       "  'attribute': 'Vcute',\n",
       "  'age': 30000},\n",
       " {'_id': ObjectId('5f85ad34763f741482f58437'),\n",
       "  'name': 'Devi',\n",
       "  'attribute': 'Sharp',\n",
       "  'age': 5000},\n",
       " {'_id': ObjectId('5f85afeb763f741482f58438'),\n",
       "  'name': 'Krishna',\n",
       "  'attribute': {'h': 25, 'w': 55, 'd': 'depth'},\n",
       "  'age': 20000},\n",
       " {'_id': ObjectId('5f85b060763f741482f58439'),\n",
       "  'name': 'Devo',\n",
       "  'attribute': {'h': 5, 'w': 5, 'd': 'depth'},\n",
       "  'age': 2000}]"
      ]
     },
     "execution_count": 13,
     "metadata": {},
     "output_type": "execute_result"
    }
   ],
   "source": [
    "list(collection.find({}))"
   ]
  },
  {
   "cell_type": "code",
   "execution_count": 14,
   "metadata": {},
   "outputs": [
    {
     "data": {
      "text/plain": [
       "<pymongo.results.UpdateResult at 0x2b576f9de00>"
      ]
     },
     "execution_count": 14,
     "metadata": {},
     "output_type": "execute_result"
    }
   ],
   "source": [
    "collection.update_one({'name': 'Devo'},\n",
    "                    {'$set' : {'new': 'newww'}})"
   ]
  },
  {
   "cell_type": "code",
   "execution_count": 16,
   "metadata": {},
   "outputs": [
    {
     "data": {
      "text/plain": [
       "<pymongo.results.UpdateResult at 0x2b579f3fec0>"
      ]
     },
     "execution_count": 16,
     "metadata": {},
     "output_type": "execute_result"
    }
   ],
   "source": [
    "collection.update_one({'name': 'Devo'},\n",
    "                    {'$set' : {'attribute.d': 22}, '$currentDate': {'lastModified': True}})"
   ]
  },
  {
   "cell_type": "code",
   "execution_count": 18,
   "metadata": {},
   "outputs": [
    {
     "data": {
      "text/plain": [
       "<pymongo.results.UpdateResult at 0x2b578fda840>"
      ]
     },
     "execution_count": 18,
     "metadata": {},
     "output_type": "execute_result"
    }
   ],
   "source": [
    "collection.update_many({ 'age' : {'$gt' : 50}},\n",
    "                      {'$set': {'age': -1111}, '$currentDate': {'lastModified': True}})"
   ]
  },
  {
   "cell_type": "code",
   "execution_count": 23,
   "metadata": {},
   "outputs": [
    {
     "data": {
      "text/plain": [
       "<pymongo.results.UpdateResult at 0x2b57917ea40>"
      ]
     },
     "execution_count": 23,
     "metadata": {},
     "output_type": "execute_result"
    }
   ],
   "source": [
    "collection.replace_one({'name': 'Devo'},\n",
    "                      { 'item': \"paper\", 'instock': [ { 'warehouse': \"A\", 'qty': 60 }, { 'warehouse': \"B\", 'qty': 40 } ]})"
   ]
  },
  {
   "cell_type": "code",
   "execution_count": 24,
   "metadata": {},
   "outputs": [
    {
     "data": {
      "text/plain": [
       "[{'_id': ObjectId('5f85acde763f741482f58435'),\n",
       "  'name': 'Krishna',\n",
       "  'attribute': 'cute',\n",
       "  'age': -1111,\n",
       "  'lastModified': datetime.datetime(2020, 10, 13, 15, 56, 28, 551000)},\n",
       " {'_id': ObjectId('5f85ad34763f741482f58436'),\n",
       "  'name': 'Krishna',\n",
       "  'attribute': 'Vcute',\n",
       "  'age': -1111,\n",
       "  'lastModified': datetime.datetime(2020, 10, 13, 15, 56, 28, 551000)},\n",
       " {'_id': ObjectId('5f85ad34763f741482f58437'),\n",
       "  'name': 'Devi',\n",
       "  'attribute': 'Sharp',\n",
       "  'age': -1111,\n",
       "  'lastModified': datetime.datetime(2020, 10, 13, 15, 56, 28, 551000)},\n",
       " {'_id': ObjectId('5f85afeb763f741482f58438'),\n",
       "  'name': 'Krishna',\n",
       "  'attribute': {'h': 25, 'w': 55, 'd': 'depth'},\n",
       "  'age': -1111,\n",
       "  'lastModified': datetime.datetime(2020, 10, 13, 15, 56, 28, 551000)},\n",
       " {'_id': ObjectId('5f85b060763f741482f58439'),\n",
       "  'item': 'paper',\n",
       "  'instock': [{'warehouse': 'A', 'qty': 60}, {'warehouse': 'B', 'qty': 40}]}]"
      ]
     },
     "execution_count": 24,
     "metadata": {},
     "output_type": "execute_result"
    }
   ],
   "source": [
    "list(collection.find({}))"
   ]
  },
  {
   "cell_type": "code",
   "execution_count": null,
   "metadata": {},
   "outputs": [],
   "source": []
  }
 ],
 "metadata": {
  "kernelspec": {
   "display_name": "Python 3",
   "language": "python",
   "name": "python3"
  },
  "language_info": {
   "codemirror_mode": {
    "name": "ipython",
    "version": 3
   },
   "file_extension": ".py",
   "mimetype": "text/x-python",
   "name": "python",
   "nbconvert_exporter": "python",
   "pygments_lexer": "ipython3",
   "version": "3.8.3"
  }
 },
 "nbformat": 4,
 "nbformat_minor": 4
}
