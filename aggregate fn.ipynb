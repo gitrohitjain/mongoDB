{
 "cells": [
  {
   "cell_type": "code",
   "execution_count": 1,
   "metadata": {},
   "outputs": [
    {
     "data": {
      "text/plain": [
       "<pymongo.results.InsertManyResult at 0x209bb64ee40>"
      ]
     },
     "execution_count": 1,
     "metadata": {},
     "output_type": "execute_result"
    }
   ],
   "source": [
    "from pymongo import MongoClient  \n",
    "    \n",
    "# creation of object MongoClient  \n",
    "client=MongoClient()  \n",
    "    \n",
    "# Connect with the portnumber and host  \n",
    "client = MongoClient(\"mongodb://localhost:27017/\")  \n",
    "    \n",
    "# Access database  \n",
    "mydatabase = client['Students']  \n",
    "    \n",
    "# Access collection of the database  \n",
    "collection = mydatabase['studentscores']  \n",
    "\n",
    "data = [ \n",
    "    {\"user\":\"Krish\", \"subject\":\"Database\", \"score\":80}, \n",
    "    {\"user\":\"Amit\",  \"subject\":\"JavaScript\", \"score\":90}, \n",
    "    {\"user\":\"Amit\",  \"title\":\"Database\", \"score\":85}, \n",
    "    {\"user\":\"Krish\",  \"title\":\"JavaScript\", \"score\":75}, \n",
    "    {\"user\":\"Amit\",  \"title\":\"Data Science\", \"score\":60},\n",
    "    {\"user\":\"Krish\",  \"title\":\"Data Science\", \"score\":95}] \n",
    "  \n",
    "collection.insert_many(data)"
   ]
  },
  {
   "cell_type": "code",
   "execution_count": 33,
   "metadata": {},
   "outputs": [
    {
     "data": {
      "text/plain": [
       "[{'_id': ObjectId('5f85d0d47a06ec67df9f7f74'),\n",
       "  'user': 'Krish',\n",
       "  'subject': 'Database',\n",
       "  'score': 80},\n",
       " {'_id': ObjectId('5f85d0d47a06ec67df9f7f75'),\n",
       "  'user': 'Amit',\n",
       "  'subject': 'JavaScript',\n",
       "  'score': 90},\n",
       " {'_id': ObjectId('5f85d0d47a06ec67df9f7f76'),\n",
       "  'user': 'Amit',\n",
       "  'title': 'Database',\n",
       "  'score': 85},\n",
       " {'_id': ObjectId('5f85d0d47a06ec67df9f7f77'),\n",
       "  'user': 'Krish',\n",
       "  'title': 'JavaScript',\n",
       "  'score': 75},\n",
       " {'_id': ObjectId('5f85d0d47a06ec67df9f7f78'),\n",
       "  'user': 'Amit',\n",
       "  'title': 'Data Science',\n",
       "  'score': 60},\n",
       " {'_id': ObjectId('5f85d0d47a06ec67df9f7f79'),\n",
       "  'user': 'Krish',\n",
       "  'title': 'Data Science',\n",
       "  'score': 95}]"
      ]
     },
     "execution_count": 33,
     "metadata": {},
     "output_type": "execute_result"
    }
   ],
   "source": [
    "list(collection.find({}))"
   ]
  },
  {
   "cell_type": "code",
   "execution_count": 45,
   "metadata": {},
   "outputs": [],
   "source": [
    "# {\n",
    "#   $group:\n",
    "#     {\n",
    "#       _id: <expression>, // Group By Expression\n",
    "#       <field1>: { <accumulator1> : <expression1> },\n",
    "#       ...\n",
    "#     }\n",
    "#  }"
   ]
  },
  {
   "cell_type": "markdown",
   "metadata": {},
   "source": [
    "<!-- {\n",
    "  $group:\n",
    "    {\n",
    "      _id: <expression>, // Group By Expression\n",
    "      <field1>: { <accumulator1> : <expression1> },\n",
    "      ...\n",
    "    }\n",
    " } -->"
   ]
  },
  {
   "cell_type": "code",
   "execution_count": 41,
   "metadata": {},
   "outputs": [],
   "source": [
    "agg_result= collection.aggregate( \n",
    "    [{ \n",
    "    \"$group\" :  \n",
    "        {\"_id\" : \"$user\"  ,\n",
    "         \"total no of subjects\" : {\"$sum\" : 1} \n",
    "         }} \n",
    "    ])"
   ]
  },
  {
   "cell_type": "code",
   "execution_count": 42,
   "metadata": {},
   "outputs": [
    {
     "name": "stdout",
     "output_type": "stream",
     "text": [
      "{'_id': 'Amit', 'total no of subjects': 3}\n",
      "{'_id': 'Krish', 'total no of subjects': 3}\n"
     ]
    }
   ],
   "source": [
    "for i in agg_result: \n",
    "    print(i)"
   ]
  },
  {
   "cell_type": "code",
   "execution_count": 48,
   "metadata": {},
   "outputs": [],
   "source": [
    "agg_result= collection.aggregate( \n",
    "    [{ \n",
    "    \"$group\" :  \n",
    "        {\"_id\" : \"$user\"  ,\n",
    "         \"sum of all subjects\" : {\"$sum\" : \"$score\"} \n",
    "         }} \n",
    "    ])"
   ]
  },
  {
   "cell_type": "code",
   "execution_count": 49,
   "metadata": {},
   "outputs": [
    {
     "name": "stdout",
     "output_type": "stream",
     "text": [
      "{'_id': 'Krish', 'sum of all subjects': 250}\n",
      "{'_id': 'Amit', 'sum of all subjects': 235}\n"
     ]
    }
   ],
   "source": [
    "for i in agg_result: \n",
    "    print(i)"
   ]
  },
  {
   "cell_type": "code",
   "execution_count": 51,
   "metadata": {},
   "outputs": [
    {
     "name": "stdout",
     "output_type": "stream",
     "text": [
      "{'_id': 'Amit', 'sum of all subjects': 78.33333333333333}\n",
      "{'_id': 'Krish', 'sum of all subjects': 83.33333333333333}\n"
     ]
    }
   ],
   "source": [
    "agg_result= collection.aggregate( \n",
    "    [{ \n",
    "    \"$group\" :  \n",
    "        {\"_id\" : \"$user\"  ,\n",
    "         \"sum of all subjects\" : {\"$avg\" : \"$score\"} \n",
    "         }} \n",
    "    ])\n",
    "\n",
    "for i in agg_result: \n",
    "    print(i)"
   ]
  },
  {
   "cell_type": "code",
   "execution_count": 54,
   "metadata": {},
   "outputs": [],
   "source": [
    "import datetime as datetime\n",
    "\n",
    "data=[{ \"_id\" : 1, \"item\" : \"abc\", \"price\" : 10, \"quantity\" : 2, \"date\" : datetime.datetime.utcnow()},\n",
    "{ \"_id\" : 2, \"item\" : \"jkl\", \"price\" : 20, \"quantity\" : 1, \"date\" : datetime.datetime.utcnow() },\n",
    "{ \"_id\" : 3, \"item\" : \"xyz\", \"price\" : 5, \"quantity\" : 5, \"date\" : datetime.datetime.utcnow() },\n",
    "{ \"_id\" : 4, \"item\" : \"abc\", \"price\" : 10, \"quantity\" : 10, \"date\" : datetime.datetime.utcnow() },\n",
    "{ \"_id\" : 5, \"item\" : \"xyz\", \"price\" : 5, \"quantity\" : 10, \"date\" :datetime.datetime.utcnow() }]"
   ]
  },
  {
   "cell_type": "code",
   "execution_count": 55,
   "metadata": {},
   "outputs": [
    {
     "data": {
      "text/plain": [
       "<pymongo.results.InsertManyResult at 0x209bd794b00>"
      ]
     },
     "execution_count": 55,
     "metadata": {},
     "output_type": "execute_result"
    }
   ],
   "source": [
    "mycollection=mydatabase['stores']  \n",
    "mycollection.insert_many(data)"
   ]
  },
  {
   "cell_type": "code",
   "execution_count": 61,
   "metadata": {},
   "outputs": [
    {
     "name": "stdout",
     "output_type": "stream",
     "text": [
      "{'_id': 'abc', 'total_price': 120, 'avgQuantity': 6.0}\n",
      "{'_id': 'jkl', 'total_price': 20, 'avgQuantity': 1.0}\n",
      "{'_id': 'xyz', 'total_price': 75, 'avgQuantity': 7.5}\n"
     ]
    }
   ],
   "source": [
    "agg_result = mycollection.aggregate(\n",
    "[{\n",
    "    \"$group\":\n",
    "        {\n",
    "            \"_id\" : \"$item\",\n",
    "            \"total_price\": {'$sum' : {\"$multiply\" : [\"$price\",\"$quantity\"]}},\n",
    "            \"avgQuantity\": { \"$avg\": \"$quantity\" }\n",
    "        }\n",
    "}]\n",
    "\n",
    ")\n",
    "for i in agg_result: \n",
    "    print(i)"
   ]
  },
  {
   "cell_type": "code",
   "execution_count": null,
   "metadata": {},
   "outputs": [],
   "source": []
  },
  {
   "cell_type": "code",
   "execution_count": null,
   "metadata": {},
   "outputs": [],
   "source": []
  }
 ],
 "metadata": {
  "kernelspec": {
   "display_name": "Python 3",
   "language": "python",
   "name": "python3"
  },
  "language_info": {
   "codemirror_mode": {
    "name": "ipython",
    "version": 3
   },
   "file_extension": ".py",
   "mimetype": "text/x-python",
   "name": "python",
   "nbconvert_exporter": "python",
   "pygments_lexer": "ipython3",
   "version": "3.8.3"
  }
 },
 "nbformat": 4,
 "nbformat_minor": 4
}
