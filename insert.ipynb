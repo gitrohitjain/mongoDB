{
 "cells": [
  {
   "cell_type": "code",
   "execution_count": 2,
   "metadata": {},
   "outputs": [],
   "source": [
    "import pymongo\n",
    "client = pymongo.MongoClient('mongodb://localhost:27017/')\n",
    "mydb = client['ParenttTable']\n",
    "collection = mydb.ChildTable"
   ]
  },
  {
   "cell_type": "code",
   "execution_count": 3,
   "metadata": {},
   "outputs": [],
   "source": [
    "record = {\n",
    "    'name' : 'Krishna',\n",
    "    'attribute' :'cute',\n",
    "    'age' : 20000\n",
    "}"
   ]
  },
  {
   "cell_type": "code",
   "execution_count": 4,
   "metadata": {},
   "outputs": [
    {
     "data": {
      "text/plain": [
       "<pymongo.results.InsertOneResult at 0x106cb8b8ac0>"
      ]
     },
     "execution_count": 4,
     "metadata": {},
     "output_type": "execute_result"
    }
   ],
   "source": [
    "collection.insert_one(record)"
   ]
  },
  {
   "cell_type": "code",
   "execution_count": 5,
   "metadata": {},
   "outputs": [],
   "source": [
    "records =[ {\n",
    "    'name' : 'Krishna',\n",
    "    'attribute' :'Vcute',\n",
    "    'age' : 30000\n",
    "},\n",
    "\n",
    "{\n",
    "    'name' : 'Devi',\n",
    "    'attribute' :'Sharp',\n",
    "    'age' : 5000\n",
    "}]"
   ]
  },
  {
   "cell_type": "code",
   "execution_count": 6,
   "metadata": {},
   "outputs": [
    {
     "data": {
      "text/plain": [
       "<pymongo.results.InsertManyResult at 0x106cd901d40>"
      ]
     },
     "execution_count": 6,
     "metadata": {},
     "output_type": "execute_result"
    }
   ],
   "source": [
    "collection.insert_many(records)"
   ]
  },
  {
   "cell_type": "code",
   "execution_count": 11,
   "metadata": {},
   "outputs": [
    {
     "data": {
      "text/plain": [
       "{'_id': ObjectId('5f85acde763f741482f58435'),\n",
       " 'name': 'Krishna',\n",
       " 'attribute': 'cute',\n",
       " 'age': 20000}"
      ]
     },
     "execution_count": 11,
     "metadata": {},
     "output_type": "execute_result"
    }
   ],
   "source": [
    "collection.find_one()"
   ]
  },
  {
   "cell_type": "code",
   "execution_count": 14,
   "metadata": {},
   "outputs": [
    {
     "data": {
      "text/plain": [
       "[{'_id': ObjectId('5f85acde763f741482f58435'),\n",
       "  'name': 'Krishna',\n",
       "  'attribute': 'cute',\n",
       "  'age': 20000},\n",
       " {'_id': ObjectId('5f85ad34763f741482f58436'),\n",
       "  'name': 'Krishna',\n",
       "  'attribute': 'Vcute',\n",
       "  'age': 30000},\n",
       " {'_id': ObjectId('5f85ad34763f741482f58437'),\n",
       "  'name': 'Devi',\n",
       "  'attribute': 'Sharp',\n",
       "  'age': 5000}]"
      ]
     },
     "execution_count": 14,
     "metadata": {},
     "output_type": "execute_result"
    }
   ],
   "source": [
    "list(collection.find())"
   ]
  },
  {
   "cell_type": "code",
   "execution_count": 15,
   "metadata": {},
   "outputs": [
    {
     "name": "stdout",
     "output_type": "stream",
     "text": [
      "{'_id': ObjectId('5f85ad34763f741482f58437'), 'name': 'Devi', 'attribute': 'Sharp', 'age': 5000}\n"
     ]
    }
   ],
   "source": [
    "for record in collection.find({'attribute': 'Sharp'}):\n",
    "    print(record)\n",
    "    "
   ]
  },
  {
   "cell_type": "code",
   "execution_count": 19,
   "metadata": {},
   "outputs": [
    {
     "name": "stdout",
     "output_type": "stream",
     "text": [
      "{'_id': ObjectId('5f85acde763f741482f58435'), 'name': 'Krishna', 'attribute': 'cute', 'age': 20000}\n",
      "{'_id': ObjectId('5f85ad34763f741482f58436'), 'name': 'Krishna', 'attribute': 'Vcute', 'age': 30000}\n",
      "{'_id': ObjectId('5f85ad34763f741482f58437'), 'name': 'Devi', 'attribute': 'Sharp', 'age': 5000}\n"
     ]
    }
   ],
   "source": [
    "for record in collection.find({'name': {'$in': ['Devi','Krishna']}}):\n",
    "    print(record)"
   ]
  },
  {
   "cell_type": "code",
   "execution_count": 20,
   "metadata": {},
   "outputs": [
    {
     "name": "stdout",
     "output_type": "stream",
     "text": [
      "{'_id': ObjectId('5f85acde763f741482f58435'), 'name': 'Krishna', 'attribute': 'cute', 'age': 20000}\n",
      "{'_id': ObjectId('5f85ad34763f741482f58436'), 'name': 'Krishna', 'attribute': 'Vcute', 'age': 30000}\n",
      "{'_id': ObjectId('5f85ad34763f741482f58437'), 'name': 'Devi', 'attribute': 'Sharp', 'age': 5000}\n"
     ]
    }
   ],
   "source": [
    "for record in collection.find({'age': {'$lt': 50000}}):\n",
    "    print(record)"
   ]
  },
  {
   "cell_type": "code",
   "execution_count": 23,
   "metadata": {
    "collapsed": true
   },
   "outputs": [
    {
     "name": "stdout",
     "output_type": "stream",
     "text": [
      "{'_id': ObjectId('5f85acde763f741482f58435'), 'name': 'Krishna', 'attribute': 'cute', 'age': 20000}\n",
      "{'_id': ObjectId('5f85ad34763f741482f58436'), 'name': 'Krishna', 'attribute': 'Vcute', 'age': 30000}\n",
      "{'_id': ObjectId('5f85ad34763f741482f58437'), 'name': 'Devi', 'attribute': 'Sharp', 'age': 5000}\n"
     ]
    }
   ],
   "source": [
    "for record in collection.find({ '$or' : [ {'age': {'$gt': 1000}},  {'name': 'Devi'}  ] }):\n",
    "    print(record)"
   ]
  },
  {
   "cell_type": "code",
   "execution_count": 24,
   "metadata": {},
   "outputs": [
    {
     "name": "stdout",
     "output_type": "stream",
     "text": [
      "{'_id': ObjectId('5f85ad34763f741482f58437'), 'name': 'Devi', 'attribute': 'Sharp', 'age': 5000}\n"
     ]
    }
   ],
   "source": [
    "for record in collection.find({ '$and' : [ {'age': {'$gt': 1000}},  {'name': 'Devi'}  ] }):\n",
    "    print(record)"
   ]
  },
  {
   "cell_type": "code",
   "execution_count": 25,
   "metadata": {},
   "outputs": [],
   "source": [
    "record = {\n",
    "    'name' : 'Krishna',\n",
    "    'attribute' :{'h' : 25,\n",
    "                 'w': 55,\n",
    "                 'd': 'depth'},\n",
    "    'age' : 20000\n",
    "}"
   ]
  },
  {
   "cell_type": "code",
   "execution_count": 26,
   "metadata": {},
   "outputs": [
    {
     "data": {
      "text/plain": [
       "<pymongo.results.InsertOneResult at 0x106cdb3adc0>"
      ]
     },
     "execution_count": 26,
     "metadata": {},
     "output_type": "execute_result"
    }
   ],
   "source": [
    "collection.insert_one(record)"
   ]
  },
  {
   "cell_type": "code",
   "execution_count": 28,
   "metadata": {},
   "outputs": [],
   "source": [
    "record = {\n",
    "    'name' : 'Devo',\n",
    "    'attribute' :{'h' : 5,\n",
    "                 'w': 5,\n",
    "                 'd': 'depth'},\n",
    "    'age' : 2000\n",
    "}"
   ]
  },
  {
   "cell_type": "code",
   "execution_count": 29,
   "metadata": {},
   "outputs": [
    {
     "data": {
      "text/plain": [
       "<pymongo.results.InsertOneResult at 0x106cdc51280>"
      ]
     },
     "execution_count": 29,
     "metadata": {},
     "output_type": "execute_result"
    }
   ],
   "source": [
    "collection.insert_one(record)"
   ]
  },
  {
   "cell_type": "code",
   "execution_count": 49,
   "metadata": {},
   "outputs": [
    {
     "name": "stdout",
     "output_type": "stream",
     "text": [
      "{'_id': ObjectId('5f85b060763f741482f58439'), 'name': 'Devo', 'attribute': {'h': 5, 'w': 5, 'd': 'depth'}, 'age': 2000, 'new': 'newww'}\n"
     ]
    }
   ],
   "source": [
    "for record in collection.find( {'attribute.h': 5 } ):\n",
    "    print(record)"
   ]
  },
  {
   "cell_type": "code",
   "execution_count": null,
   "metadata": {},
   "outputs": [],
   "source": []
  }
 ],
 "metadata": {
  "kernelspec": {
   "display_name": "Python 3",
   "language": "python",
   "name": "python3"
  },
  "language_info": {
   "codemirror_mode": {
    "name": "ipython",
    "version": 3
   },
   "file_extension": ".py",
   "mimetype": "text/x-python",
   "name": "python",
   "nbconvert_exporter": "python",
   "pygments_lexer": "ipython3",
   "version": "3.8.3"
  }
 },
 "nbformat": 4,
 "nbformat_minor": 4
}
